{
 "cells": [
  {
   "cell_type": "code",
   "execution_count": 1,
   "metadata": {
    "collapsed": true
   },
   "outputs": [],
   "source": [
    "import pandas as pd\n",
    "import numpy as np "
   ]
  },
  {
   "cell_type": "code",
   "execution_count": 2,
   "metadata": {
    "collapsed": true
   },
   "outputs": [],
   "source": [
    "pd_data = pd.read_csv('https://raw.githubusercontent.com/AugustLONG/ML01/master/01decisiontree/AllElectronics.csv')\n",
    "pd_data.drop(\"RID\",inplace=True, axis=1)"
   ]
  },
  {
   "cell_type": "code",
   "execution_count": 3,
   "metadata": {},
   "outputs": [
    {
     "data": {
      "text/html": [
       "<div>\n",
       "<style>\n",
       "    .dataframe thead tr:only-child th {\n",
       "        text-align: right;\n",
       "    }\n",
       "\n",
       "    .dataframe thead th {\n",
       "        text-align: left;\n",
       "    }\n",
       "\n",
       "    .dataframe tbody tr th {\n",
       "        vertical-align: top;\n",
       "    }\n",
       "</style>\n",
       "<table border=\"1\" class=\"dataframe\">\n",
       "  <thead>\n",
       "    <tr style=\"text-align: right;\">\n",
       "      <th></th>\n",
       "      <th>age</th>\n",
       "      <th>income</th>\n",
       "      <th>student</th>\n",
       "      <th>credit_rating</th>\n",
       "      <th>class_buys_computer</th>\n",
       "    </tr>\n",
       "  </thead>\n",
       "  <tbody>\n",
       "    <tr>\n",
       "      <th>0</th>\n",
       "      <td>youth</td>\n",
       "      <td>high</td>\n",
       "      <td>no</td>\n",
       "      <td>fair</td>\n",
       "      <td>no</td>\n",
       "    </tr>\n",
       "    <tr>\n",
       "      <th>1</th>\n",
       "      <td>youth</td>\n",
       "      <td>high</td>\n",
       "      <td>no</td>\n",
       "      <td>excellent</td>\n",
       "      <td>no</td>\n",
       "    </tr>\n",
       "    <tr>\n",
       "      <th>2</th>\n",
       "      <td>middle_aged</td>\n",
       "      <td>high</td>\n",
       "      <td>no</td>\n",
       "      <td>fair</td>\n",
       "      <td>yes</td>\n",
       "    </tr>\n",
       "    <tr>\n",
       "      <th>3</th>\n",
       "      <td>senior</td>\n",
       "      <td>medium</td>\n",
       "      <td>no</td>\n",
       "      <td>fair</td>\n",
       "      <td>yes</td>\n",
       "    </tr>\n",
       "    <tr>\n",
       "      <th>4</th>\n",
       "      <td>senior</td>\n",
       "      <td>low</td>\n",
       "      <td>yes</td>\n",
       "      <td>fair</td>\n",
       "      <td>yes</td>\n",
       "    </tr>\n",
       "    <tr>\n",
       "      <th>5</th>\n",
       "      <td>senior</td>\n",
       "      <td>low</td>\n",
       "      <td>yes</td>\n",
       "      <td>excellent</td>\n",
       "      <td>no</td>\n",
       "    </tr>\n",
       "    <tr>\n",
       "      <th>6</th>\n",
       "      <td>middle_aged</td>\n",
       "      <td>low</td>\n",
       "      <td>yes</td>\n",
       "      <td>excellent</td>\n",
       "      <td>yes</td>\n",
       "    </tr>\n",
       "    <tr>\n",
       "      <th>7</th>\n",
       "      <td>youth</td>\n",
       "      <td>medium</td>\n",
       "      <td>no</td>\n",
       "      <td>fair</td>\n",
       "      <td>no</td>\n",
       "    </tr>\n",
       "    <tr>\n",
       "      <th>8</th>\n",
       "      <td>youth</td>\n",
       "      <td>low</td>\n",
       "      <td>yes</td>\n",
       "      <td>fair</td>\n",
       "      <td>yes</td>\n",
       "    </tr>\n",
       "    <tr>\n",
       "      <th>9</th>\n",
       "      <td>senior</td>\n",
       "      <td>medium</td>\n",
       "      <td>yes</td>\n",
       "      <td>fair</td>\n",
       "      <td>yes</td>\n",
       "    </tr>\n",
       "    <tr>\n",
       "      <th>10</th>\n",
       "      <td>youth</td>\n",
       "      <td>medium</td>\n",
       "      <td>yes</td>\n",
       "      <td>excellent</td>\n",
       "      <td>yes</td>\n",
       "    </tr>\n",
       "    <tr>\n",
       "      <th>11</th>\n",
       "      <td>middle_aged</td>\n",
       "      <td>medium</td>\n",
       "      <td>no</td>\n",
       "      <td>excellent</td>\n",
       "      <td>yes</td>\n",
       "    </tr>\n",
       "    <tr>\n",
       "      <th>12</th>\n",
       "      <td>middle_aged</td>\n",
       "      <td>high</td>\n",
       "      <td>yes</td>\n",
       "      <td>fair</td>\n",
       "      <td>yes</td>\n",
       "    </tr>\n",
       "    <tr>\n",
       "      <th>13</th>\n",
       "      <td>senior</td>\n",
       "      <td>medium</td>\n",
       "      <td>no</td>\n",
       "      <td>excellent</td>\n",
       "      <td>no</td>\n",
       "    </tr>\n",
       "  </tbody>\n",
       "</table>\n",
       "</div>"
      ],
      "text/plain": [
       "            age  income student credit_rating class_buys_computer\n",
       "0         youth    high      no          fair                  no\n",
       "1         youth    high      no     excellent                  no\n",
       "2   middle_aged    high      no          fair                 yes\n",
       "3        senior  medium      no          fair                 yes\n",
       "4        senior     low     yes          fair                 yes\n",
       "5        senior     low     yes     excellent                  no\n",
       "6   middle_aged     low     yes     excellent                 yes\n",
       "7         youth  medium      no          fair                  no\n",
       "8         youth     low     yes          fair                 yes\n",
       "9        senior  medium     yes          fair                 yes\n",
       "10        youth  medium     yes     excellent                 yes\n",
       "11  middle_aged  medium      no     excellent                 yes\n",
       "12  middle_aged    high     yes          fair                 yes\n",
       "13       senior  medium      no     excellent                  no"
      ]
     },
     "execution_count": 3,
     "metadata": {},
     "output_type": "execute_result"
    }
   ],
   "source": [
    "pd_data"
   ]
  },
  {
   "cell_type": "markdown",
   "metadata": {},
   "source": [
    "* 데이터의 Entropy 구하기"
   ]
  },
  {
   "cell_type": "code",
   "execution_count": 4,
   "metadata": {},
   "outputs": [
    {
     "data": {
      "text/plain": [
       "0.94028595867063114"
      ]
     },
     "execution_count": 4,
     "metadata": {},
     "output_type": "execute_result"
    }
   ],
   "source": [
    "def get_info(df):\n",
    "    y_labels = df['class_buys_computer'].unique()\n",
    "    pi_probas = np.array([len(df[df['class_buys_computer'] == attribute]) \\\n",
    "                                    / len(df) for attribute in y_labels])\n",
    "    calculate_log = np.log2(pi_probas[pi_probas != 0])\n",
    "    return -np.sum(pi_probas[pi_probas != 0] * calculate_log)\n",
    "get_info(pd_data)"
   ]
  },
  {
   "cell_type": "markdown",
   "metadata": {},
   "source": [
    "* Feature로 분류 했을 때 정보량 구하기"
   ]
  },
  {
   "cell_type": "code",
   "execution_count": 5,
   "metadata": {
    "collapsed": true
   },
   "outputs": [],
   "source": [
    "def feature_info(df, feature_name):\n",
    "    attributes = df[feature_name].unique()\n",
    "    attribute_probas = np.array([len(df[df[feature_name] == j]) / len(df) for j in attributes])\n",
    "    splits_attribute_df_entropy = np.array([get_info(df[df[feature_name]==j]) for j in attributes])\n",
    "    #print(attribute_probas, splits_attribute_df_entropy)\n",
    "    result = np.sum(attribute_probas * splits_attribute_df_entropy)\n",
    "    return result"
   ]
  },
  {
   "cell_type": "code",
   "execution_count": 6,
   "metadata": {},
   "outputs": [
    {
     "name": "stdout",
     "output_type": "stream",
     "text": [
      "전체 데이터를 age로 분류 했을 때 정보량 : 0.693536138896\n",
      "전체 데이터를 income로 분류 했을 때 정보량 : 0.911063393012\n",
      "전체 데이터를 student로 분류 했을 때 정보량 : 0.788450457308\n",
      "전체 데이터를 credit_rating로 분류 했을 때 정보량 : 0.892158928262\n"
     ]
    }
   ],
   "source": [
    "print('전체 데이터를 age로 분류 했을 때 정보량 :', feature_info(pd_data, 'age'))\n",
    "print('전체 데이터를 income로 분류 했을 때 정보량 :', feature_info(pd_data, 'income'))\n",
    "print('전체 데이터를 student로 분류 했을 때 정보량 :', feature_info(pd_data, 'student'))\n",
    "print('전체 데이터를 credit_rating로 분류 했을 때 정보량 :', feature_info(pd_data, 'credit_rating'))"
   ]
  },
  {
   "cell_type": "markdown",
   "metadata": {},
   "source": [
    "* Information gain 값 구하기\n",
    "    * IG값은 커야 좋음. -> 얻는 정보량이 많아짐.\n",
    "    * using_data = [IG값 리스트, 가장 IG값이 큰 feature name, IG값을 tuple 형식으로 표현] "
   ]
  },
  {
   "cell_type": "code",
   "execution_count": 9,
   "metadata": {},
   "outputs": [
    {
     "name": "stdout",
     "output_type": "stream",
     "text": [
      "{'income': 0.029222565658954869, 'age': 0.24674981977443933, 'credit_rating': 0.048127030408269489, 'student': 0.15183550136234159}\n"
     ]
    },
    {
     "data": {
      "text/plain": [
       "[array([ 0.24674982,  0.02922257,  0.1518355 ,  0.04812703]),\n",
       " ('age', 0.24674981977443933)]"
      ]
     },
     "execution_count": 9,
     "metadata": {},
     "output_type": "execute_result"
    }
   ],
   "source": [
    "def pick_feature(df, attributes_list):\n",
    "    \n",
    "    data_info = get_info(df)\n",
    "    attr_infos = np.array([feature_info(df, attr_name) for attr_name in attributes_list])\n",
    "    information_gain_list = np.array([data_info - attr_info for attr_info in attr_infos])    \n",
    "    info_dict = {attr_name : info_gain for attr_name, info_gain in zip(attributes_list, information_gain_list)}\n",
    "    #print(info_dict)\n",
    "    spliting_information = sorted(info_dict.items(), key=lambda x: x[1], reverse=True)[0]\n",
    "    using_data = [information_gain_list, spliting_information]\n",
    "    \n",
    "    return using_data\n",
    "pick_feature(pd_data, pd_data.columns[:-1])"
   ]
  },
  {
   "cell_type": "markdown",
   "metadata": {},
   "source": [
    "* id3 알고리즘 : recursive하게 만들어야 하는데... 좀 더 고민을 해봐야 할 것 같습니다. 그래서 일단은 recursive하지 않게 만들어 보았습니다. \n",
    "    * 코드를 짜고 보니까 너무 이 데이터에 최적화 된 것 같습니다."
   ]
  },
  {
   "cell_type": "code",
   "execution_count": 8,
   "metadata": {},
   "outputs": [
    {
     "name": "stdout",
     "output_type": "stream",
     "text": [
      "youth income 0.4\n",
      "youth student 0.0\n",
      "youth credit_rating 0.950977500433\n",
      "middle_aged income 0.0\n",
      "middle_aged student 0.0\n",
      "middle_aged credit_rating 0.0\n",
      "senior income 0.950977500433\n",
      "senior student 0.950977500433\n",
      "senior credit_rating 0.0\n"
     ]
    },
    {
     "data": {
      "text/plain": [
       "{'age': {'middle_aged': [{'yes': array([ 2,  6, 11, 12], dtype=int64)}],\n",
       "  'senior': {'credit_rating': [{'yes': array([3, 4, 9], dtype=int64)},\n",
       "    {'no': array([ 5, 13], dtype=int64)}]},\n",
       "  'youth': {'student': [{'no': array([0, 1, 7], dtype=int64)},\n",
       "    {'yes': array([ 8, 10], dtype=int64)}]}}}"
      ]
     },
     "execution_count": 8,
     "metadata": {},
     "output_type": "execute_result"
    }
   ],
   "source": [
    "def id3_algorithms(df):\n",
    "    total_save = {} \n",
    "    sub_save = {}\n",
    "    column_names = df.columns[:-1]\n",
    "    result = pick_feature(df, column_names) # 처음 spliting_node 정하기\n",
    "    spliting_feature = result[1][0] \n",
    "    ''' (result[0]은 information gain 값, \n",
    "         result[1]은 tuple형식으로 ('spliting_feature_name', information gain 값)) \n",
    "         그래서 result[1][0]'''\n",
    "    attributes_list = df[spliting_feature].unique() \n",
    "    # age의 경우 세가지 속성 가지고 있음. 이 경우 [youth, middle_aged, senior]\n",
    "    total_save[spliting_feature] = '' \n",
    "    # key 값 age 초기화\n",
    "    for attribute in attributes_list:\n",
    "    # age의 경우 youth, middle_aged, senior 이 세가지 attribute가 attribute_list안에 있음\n",
    "        split_df = df.loc[df[spliting_feature] == attribute] # age에서 가지 뻗기, 데이터 프레임 분할\n",
    "        feature_attrs = split_df.columns[split_df.columns != spliting_feature][:-1] \n",
    "        #target 제외, 처음에 분할된 node : age 제외\n",
    "        for attr in feature_attrs: #feature_attrs = [income, student, credit_rating]\n",
    "            print(attribute, attr, feature_info(split_df, attr))\n",
    "            if feature_info(split_df, attr) == 0: \n",
    "                #Spliting node 찾기. 분할된 데이터에서 attr로 분류했을 때 정보량이 0인 경우\n",
    "                if get_info(split_df[split_df[spliting_feature] == attribute]) == 0:\n",
    "                    '''age node에서 middle_aged node로 뻗어 나왔을 때 \n",
    "                       middle_aged의 경우 이미 구분이 되어 있으므로 entroy 값 : 0''' \n",
    "                    sub_save[attribute] = [{split_df[split_df.columns[-1]].unique()[0]\n",
    "                                            : np.array(split_df.index)}]\n",
    "                    '''middle_aged의 경우 가지를 뻗을 필요가 없음 \n",
    "                       그래서 바로 [{yes일 때 : index}]로 표현'''\n",
    "                else:\n",
    "                    # age에서 뻗어 나왔을 때 각 노드별(youth node, senior node) 정보량 값이 0이 아닌 경우\n",
    "                    sub_feature_attributes = split_df[attr].unique() \n",
    "                    ''' 여기서 attr : 위에서 feature_info(split_df, attr) == 0일 때 attr,\n",
    "                        attribute가 youth인 경우 student를 의미, youth node에서 student 속성이 spliting node가 됨 \n",
    "                        attr이 student인 경우 sub_feature_attributes에는 student의 속성인 no, yes 포함'''\n",
    "                    sub_save_2 = {attr : ''} #sub_save_2 = key값으로 attr, value 값 : ''로 초기화\n",
    "                    save_list = []\n",
    "                    for sub_attr in sub_feature_attributes:\n",
    "                        sub_split_df = split_df[split_df[attr] == sub_attr] \n",
    "                        '''attribute가 youth일 때(=split_df) attr : student인 경우 \n",
    "                           sub_attr = no, yes인 경우 데이터프레임 분할'''\n",
    "                        save_list.append({sub_split_df[sub_split_df.columns[-1]].unique()[0]\n",
    "                                            : np.array(sub_split_df.index)})\n",
    "                        '''dict형태로 yes일 때  index, \n",
    "                           no일 때 index 각각 key,value 값으로 표현 \n",
    "                           dict를 save_list에 append'''\n",
    "                    sub_save_2[attr] = save_list \n",
    "                    '''youth인 경우 attr : student.  \n",
    "                       {student : [{no : no일 때 index, yes : yes일 때 index}]}'''\n",
    "                    sub_save[attribute] = sub_save_2 \n",
    "                    ''' {youth : {student : [{no : no일 때 index}, {yes : yes일 때 index}]}}'''\n",
    "                        \n",
    "    total_save[spliting_feature] = sub_save\n",
    "    return total_save\n",
    "id3_algorithms(pd_data)"
   ]
  }
 ],
 "metadata": {
  "kernelspec": {
   "display_name": "Python 3",
   "language": "python",
   "name": "python3"
  },
  "language_info": {
   "codemirror_mode": {
    "name": "ipython",
    "version": 3
   },
   "file_extension": ".py",
   "mimetype": "text/x-python",
   "name": "python",
   "nbconvert_exporter": "python",
   "pygments_lexer": "ipython3",
   "version": "3.5.3"
  }
 },
 "nbformat": 4,
 "nbformat_minor": 2
}
